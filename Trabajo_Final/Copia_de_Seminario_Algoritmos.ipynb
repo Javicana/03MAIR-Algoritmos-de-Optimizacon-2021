{
  "nbformat": 4,
  "nbformat_minor": 0,
  "metadata": {
    "colab": {
      "name": "Copia de Seminario - Algoritmos.ipynb",
      "provenance": [],
      "collapsed_sections": [],
      "include_colab_link": true
    },
    "kernelspec": {
      "name": "python3",
      "display_name": "Python 3"
    }
  },
  "cells": [
    {
      "cell_type": "markdown",
      "metadata": {
        "id": "view-in-github",
        "colab_type": "text"
      },
      "source": [
        "<a href=\"https://colab.research.google.com/github/Javicana/03MAIR-Algoritmos-de-Optimizacon-2021/blob/main/Trabajo_Final/Copia_de_Seminario_Algoritmos.ipynb\" target=\"_parent\"><img src=\"https://colab.research.google.com/assets/colab-badge.svg\" alt=\"Open In Colab\"/></a>"
      ]
    },
    {
      "cell_type": "markdown",
      "metadata": {
        "id": "hVbXYX-RfPWh"
      },
      "source": [
        "# Algoritmos de optimización - Seminario<br>\n",
        "Nombre y Apellidos: Javier Canales Navarrete   <br>\n",
        "Github: https://github.com/Javicana/03MAIR-Algoritmos-de-Optimizacon-2021/tree/main/Trabajo_Final<br>\n",
        "Colab: https://colab.research.google.com/drive/1GtooUJcekEHF-ayqfKRijBzDX7Zl2ImU?usp=sharing<br>\n",
        "\n",
        "\n",
        "\n",
        "##Problema 3: Combinar cifras y operaciones\n",
        "\n",
        "Descripción:\n",
        "\n",
        "El problema consiste en analizar el siguiente problema y diseñar un algoritmo que lo resuelva:\n",
        "\n",
        "*   Disponemos de las 9 cifras del 1 al 9 (excluimos el cero) y de los 4 signos básicos de las operaciones fundamentales: suma(+), resta(-), multiplicación(*) y división(/)\n",
        "*  Debemos combinarlos alternativamente sin repetir ninguno de ellos para obtener una cantidad dada. Un ejemplo sería para obtener el 4: 4+2-6/3*1 = 4\n",
        "*  Debe analizarse el problema para encontrar todos los valores enteros posibles planteando las\n",
        "siguientes cuestiones:\n",
        "\n",
        "    * ¿Qué valor máximo y mínimo se pueden obtener según las condiciones del problema?\n",
        "    * ¿Es posible encontrar todos los valores enteros posibles entre dicho mínimo y máximo ?\n",
        "\n",
        "\n",
        "\n",
        "\n",
        "\n",
        "\n",
        "   \n",
        "\n",
        "\n",
        "(*) La respuesta es obligatoria                                        "
      ]
    },
    {
      "cell_type": "markdown",
      "metadata": {
        "id": "3_-exlrTgLd-"
      },
      "source": [
        "### 1. (*)¿Cuantas posibilidades hay sin tener en cuenta las restricciones?<br>"
      ]
    },
    {
      "cell_type": "markdown",
      "source": [
        "Analizando el rango de valores que se puede optener en el problema, la combinación más grande que se puede conseguir es 9x8+7-1/6, que da 78.833 y la mínima sería -70.143 como combinación de 1+6/7-9x8.\n",
        "\n",
        "Como solo se considerán las soluciones que son numeros enteros, es decir las que se encuentran comprendidas entre [-69,77], ya que por lo que podemos obtener 147 numeros distintos.\n",
        "\n",
        "En primer lugar, si analizamos las posibles combinaciones de las cifras sin ningún tipo de restricción serían:\n",
        " \n",
        "1.   Para las cifras, hay 9 numeros [0-9] tomados de 5 en 5 --> Variación sin repetición = $VR_{9}^{5} = {9}^{5}  = 59049$ posibilidades \n",
        "2.   Las posibles combinaciones de los signos serían $4^4= 256$ posibilidades\n",
        "\n",
        " Total = $15116544$ posibilidades\n",
        "\n",
        "Acontinuación se muestra un codigo para dichas posibilidades:\n"
      ],
      "metadata": {
        "id": "lbSvNrqJ7rIe"
      }
    },
    {
      "cell_type": "code",
      "source": [
        "import itertools\n",
        "\n",
        "#Combinaciones de cifras\n",
        "cifras = list(range(9,0,-1))\n",
        "combinaciones_cifras = [i for i in itertools.product(cifras,repeat=5)]\n",
        "print('cifras=', cifras, 'cantidad de combinaciones =', (len(combinaciones_cifras)))\n",
        "\n",
        "#Combinaciones de signos\n",
        "signos =  ['*','/','+','-']\n",
        "combinaciones_signos =  [i for i in itertools.product(signos, repeat=4)]\n",
        "print('signos=',signos, 'cantidad de combinaciones =', (len(combinaciones_signos)))\n",
        "\n",
        "#Calculod de posibilidades\n",
        "count = 0\n",
        "for i in combinaciones_cifras:\n",
        "  for j in combinaciones_signos:\n",
        "    count += 1\n",
        "print('Total = ',count,'posibilidades')"
      ],
      "metadata": {
        "colab": {
          "base_uri": "https://localhost:8080/"
        },
        "id": "LyuFDCJTPHAc",
        "outputId": "4a9d51de-cfda-4640-c91c-3e10038c8658"
      },
      "execution_count": null,
      "outputs": [
        {
          "output_type": "stream",
          "name": "stdout",
          "text": [
            "cifras= [9, 8, 7, 6, 5, 4, 3, 2, 1] cantidad de combinaciones = 59049\n",
            "signos= ['*', '/', '+', '-'] cantidad de combinaciones = 256\n",
            "Total =  15116544 posibilidades\n"
          ]
        }
      ]
    },
    {
      "cell_type": "markdown",
      "source": [
        "### 2. ¿Cuantas posibilidades hay teniendo en cuenta todas las restricciones."
      ],
      "metadata": {
        "id": "mO5B5Sr3CAEb"
      }
    },
    {
      "cell_type": "markdown",
      "source": [
        "Las posibles combinaciones de las cifras sin ningún tipo de restricción serían:\n",
        "\n",
        "1.  Tenemos 9 numeros [0-9] tomados de 5 en 5 -->     Variación sin repetición = $V_{9}^{5} = 9!/(9-5)!= 15120$ posibilidades\n",
        "\n",
        "2.  Las posibles combinaciones de los signos serían $4! = 24$ posibilidades\n",
        "\n",
        " Total = $362880$ posibilidades\n",
        "\n",
        "Acontinuación se muestra un codigo para dichas posibilidades:"
      ],
      "metadata": {
        "id": "OdyWsIoQG8LZ"
      }
    },
    {
      "cell_type": "code",
      "source": [
        "import itertools\n",
        "\n",
        "#Combinaciones de cifras\n",
        "cifras = list(range(9,0,-1))\n",
        "combinaciones_cifras = [i for i in itertools.permutations(cifras,5)]\n",
        "print('cifras=', cifras, 'cantidad de combinaciones =', (len(combinaciones_cifras)))\n",
        "\n",
        "#Combinaciones de signos\n",
        "signos =  ['*','/','+','-']\n",
        "combinaciones_signos =  [i for i in itertools.permutations(signos,4)]\n",
        "print('signos=',signos, 'cantidad de combinaciones =', (len(combinaciones_signos)))\n",
        "\n",
        "#Calculod de posibilidades\n",
        "count = 0\n",
        "for i in combinaciones_cifras:\n",
        "  for j in combinaciones_signos:\n",
        "    count += 1\n",
        "print('Total = ',count,'posibilidades')"
      ],
      "metadata": {
        "colab": {
          "base_uri": "https://localhost:8080/"
        },
        "id": "obIIqtPET9gg",
        "outputId": "61af9cce-5fd1-49ec-f66a-19517e64e962"
      },
      "execution_count": null,
      "outputs": [
        {
          "output_type": "stream",
          "name": "stdout",
          "text": [
            "cifras= [9, 8, 7, 6, 5, 4, 3, 2, 1] cantidad de combinaciones = 15120\n",
            "signos= ['*', '/', '+', '-'] cantidad de combinaciones = 24\n",
            "Total =  362880 posibilidades\n"
          ]
        }
      ]
    },
    {
      "cell_type": "markdown",
      "source": [
        "A estas restricciones de los signos tambien habría que añadir que solo se puede considerar combinación valida aquellas que dan un número entero"
      ],
      "metadata": {
        "id": "9O48xBYMUoUN"
      }
    },
    {
      "cell_type": "markdown",
      "metadata": {
        "id": "dzynfVJahHoY"
      },
      "source": [
        "### 3. (*) ¿Cual es la estructura de datos que mejor se adapta al problema? Argumentalo.(Es posible que hayas elegido una al principio y veas la necesidad de cambiar, arguentalo)\n"
      ]
    },
    {
      "cell_type": "markdown",
      "metadata": {
        "id": "xFIJrOwKi2Ti"
      },
      "source": [
        "Para la resolución de este problema, se ha aplicado un algoritmo de busqueda en profundidad, explorando cada nodo hasta el final y descartando la solución hasta optener una primera solución valida momento en el que se detiene la busqueda, para mejorar el rendimiento, se ha dividido en 2 la busqueda, una primera para números iguales o mayores que 0 y otra para numeros menores que 0."
      ]
    },
    {
      "cell_type": "markdown",
      "metadata": {
        "id": "7Z9U2W7bi-XS"
      },
      "source": [
        "### 4. (*)¿Cual es la función objetivo?"
      ]
    },
    {
      "cell_type": "markdown",
      "source": [
        "Se trata de un problema de busqueda de encontrar una solución, por lo el objetivo es encontrar la solución en el menor número de iteraciones posible."
      ],
      "metadata": {
        "id": "ZkNcgC3QJC5d"
      }
    },
    {
      "cell_type": "markdown",
      "source": [
        "###5. (*)¿Es un problema de maximización o minimización?"
      ],
      "metadata": {
        "id": "U1PSuyHGI9ib"
      }
    },
    {
      "cell_type": "markdown",
      "source": [
        "Por tanto, se trata de un problema de busqueda con el objetivo de mínimizar el tiempo empleado para encontrarlo, por lo que para ello se ha de mínimizar el número de iteraciones empleadas."
      ],
      "metadata": {
        "id": "ekZA1zrvJTAI"
      }
    },
    {
      "cell_type": "markdown",
      "metadata": {
        "id": "rlnTYgY1j6I2"
      },
      "source": [
        "### 6. Diseña un algoritmo para resolver el problema por fuerza bruta"
      ]
    },
    {
      "cell_type": "markdown",
      "metadata": {
        "id": "70rDgxYXkC8r"
      },
      "source": [
        "Respuesta"
      ]
    },
    {
      "cell_type": "code",
      "metadata": {
        "id": "CJb5sQ0qkENy"
      },
      "source": [
        "def find_result(num_objetivo):\n",
        "  import itertools\n",
        "\n",
        "  #Combinaciones de cifras\n",
        "  cifras = list(range(9,0,-1))\n",
        "  combinaciones_cifras = [i for i in itertools.permutations(cifras,5)]\n",
        "\n",
        "  #Combinaciones de signos\n",
        "  signos =  ['*','/','+','-']\n",
        "  combinaciones_signos =  [i for i in itertools.permutations(signos)]\n",
        "  \n",
        "  #Algoritmo de busqueda de solución\n",
        "  iteraciones = 0\n",
        "  for i in combinaciones_cifras:\n",
        "    for j in combinaciones_signos:\n",
        "      iteraciones += 1\n",
        "      if (eval(f'{i[0]}{j[0]}{i[1]}{j[1]}{i[2]}{j[2]}{i[3]}{j[3]}{i[4]}') == num_objetivo):\n",
        "        result = f'{i[0]}{j[0]}{i[1]}{j[1]}{i[2]}{j[2]}{i[3]}{j[3]}{i[4]}'\n",
        "        return iteraciones,result\n",
        "  return"
      ],
      "execution_count": null,
      "outputs": []
    },
    {
      "cell_type": "code",
      "source": [
        "import random\n",
        "\n",
        "#Verificación de el algoritmo\n",
        "num_objetivo = random.randrange(-69,77)\n",
        "iteraciones, resultado = find_result(num_objetivo)\n",
        "print(f'Numero buscado = {num_objetivo}')\n",
        "print(f'Comboración resultado --> {resultado} = {eval(resultado)}')\n",
        "print(f'Numero de iteraciones empleadas = --> {iteraciones}')"
      ],
      "metadata": {
        "colab": {
          "base_uri": "https://localhost:8080/"
        },
        "id": "umS28XaTK-VF",
        "outputId": "ec6bea06-797a-489c-f802-7fa471ef1914"
      },
      "execution_count": null,
      "outputs": [
        {
          "output_type": "stream",
          "name": "stdout",
          "text": [
            "Numero buscado = -37\n",
            "Comboración resultado --> 9-8*6+4/2 = -37.0\n",
            "Numero de iteraciones empleadas = --> 1052\n"
          ]
        }
      ]
    },
    {
      "cell_type": "code",
      "source": [
        "#Evaluar tiempo promedio de resultados evaluando todos los numeros de rangos disponible [-69,77]\n",
        "import time\n",
        "\n",
        "#Rango de todos los valores que se pueden tomar\n",
        "range_disp = range(-68,78)\n",
        "\n",
        "#Inicio de temporizador y calculo de todas las soluciones\n",
        "iteraciones_mean = 0\n",
        "start = time.time()\n",
        "for i in range_disp:\n",
        "  iteraciones,_ = find_result(i)\n",
        "  iteraciones_mean += iteraciones\n",
        "end = time.time()\n",
        "tiempo = end - start\n",
        "\n",
        "print(f'Tiempo empleado = {tiempo}')\n",
        "print(f'Tiempo promedio para calcular una solución {tiempo/len(range_disp)} ms')\n",
        "print(f'Promedio iteraciones empleadas = {iteraciones_mean/len(range_disp)}')"
      ],
      "metadata": {
        "colab": {
          "base_uri": "https://localhost:8080/"
        },
        "id": "o7rWkd4ULAPu",
        "outputId": "16fa3efe-4983-4612-c9ab-1528866c3f54"
      },
      "execution_count": null,
      "outputs": [
        {
          "output_type": "stream",
          "name": "stdout",
          "text": [
            "Tiempo empleado = 17.41455912590027\n",
            "Tiempo promedio para calcular una solución 0.11927780223219361 ms\n",
            "Promedio iteraciones empleadas = 14803.191780821919\n"
          ]
        }
      ]
    },
    {
      "cell_type": "markdown",
      "metadata": {
        "id": "tgrnsC2nkFa8"
      },
      "source": [
        "### 7.  Calcula la complejidad del algoritmo por fuerza bruta"
      ]
    },
    {
      "cell_type": "markdown",
      "metadata": {
        "id": "9eUd3xwckP68"
      },
      "source": [
        "Se trata de un algoritmo de complejidad $O(n^2)$, ya que esta compuesto por 2 bucles for."
      ]
    },
    {
      "cell_type": "markdown",
      "metadata": {
        "id": "txbrmLmskReM"
      },
      "source": [
        "### 8. (*)Diseña un algoritmo que mejore la complejidad del algortimo por fuerza bruta. Argumenta porque crees que mejora el algoritmo por fuerza bruta"
      ]
    },
    {
      "cell_type": "code",
      "metadata": {
        "id": "rvZWwL-ckRST"
      },
      "source": [
        "def find_result2(num_objetivo):\n",
        "  \n",
        "  #Combinaciones de cifras\n",
        "  cifras = list(range(9,0,-1))\n",
        "  combinaciones_cifras = [i for i in itertools.permutations(cifras,5)]\n",
        " \n",
        "  #Algoritmo de busqueda de solución\n",
        "  iteraciones = 0\n",
        "  for i in combinaciones_cifras:\n",
        "    iteraciones += 1\n",
        "    if num_objetivo >= 0:\n",
        "      signos = ['*','-','+','/']\n",
        "      if (eval(f'{i[0]}{signos[0]}{i[1]}{signos[1]}{i[2]}{signos[2]}{i[3]}{signos[3]}{i[4]}') == num_objetivo):\n",
        "        result = f'{i[0]}{signos[0]}{i[1]}{signos[1]}{i[2]}{signos[2]}{i[3]}{signos[3]}{i[4]}'\n",
        "        return iteraciones, result\n",
        "    else:\n",
        "      signos = ['/','+','-','*']\n",
        "      if (eval(f'{i[0]}{signos[0]}{i[1]}{signos[1]}{i[2]}{signos[2]}{i[3]}{signos[3]}{i[4]}') == num_objetivo):\n",
        "        result = f'{i[0]}{signos[0]}{i[1]}{signos[1]}{i[2]}{signos[2]}{i[3]}{signos[3]}{i[4]}'\n",
        "        return iteraciones, result\n",
        "  return"
      ],
      "execution_count": null,
      "outputs": []
    },
    {
      "cell_type": "code",
      "source": [
        "#Verificación de el algoritmo\n",
        "num_objetivo = random.randrange(-69,78)\n",
        "num_objetivo = -69\n",
        "iteraciones, resultado = find_result2(num_objetivo)\n",
        "print(f'Numero buscado = {num_objetivo}')\n",
        "print(f'Comboración resultado --> {resultado} = {eval(resultado)}')\n",
        "print(f'Numero de iteraciones empleadas = --> {iteraciones}')"
      ],
      "metadata": {
        "colab": {
          "base_uri": "https://localhost:8080/"
        },
        "id": "2duag20YLgSJ",
        "outputId": "029d4bfb-7c8b-4fae-bff7-41b2839f653d"
      },
      "execution_count": null,
      "outputs": [
        {
          "output_type": "stream",
          "name": "stdout",
          "text": [
            "Numero buscado = -69\n",
            "Comboración resultado --> 6/3+1-9*8 = -69.0\n",
            "Numero de iteraciones empleadas = --> 6271\n"
          ]
        }
      ]
    },
    {
      "cell_type": "code",
      "source": [
        "#Evaluar tiempo promedio de resultados evaluando todos los numeros de rangos disponible [-69,77]\n",
        "#Evaluar tiempo promedio de resultados evaluando todos los numeros de rangos disponible [-69,77]\n",
        "import time\n",
        "\n",
        "#Rango de todos los valores que se pueden tomar\n",
        "range_disp = range(-68,78)\n",
        "\n",
        "#Inicio de temporizador y calculo de todas las soluciones\n",
        "iteraciones_mean = 0\n",
        "start = time.time()\n",
        "for i in range_disp:\n",
        "  iteraciones, _ = find_result2(i)\n",
        "  iteraciones_mean += iteraciones\n",
        "end = time.time()\n",
        "tiempo = end - start\n",
        "\n",
        "print(f'Tiempo empleado = {tiempo}')\n",
        "print(f'Tiempo promedio para calcular una solución {tiempo/len(range_disp)} ms')\n",
        "print(f'Promedio iteraciones empleadas = {iteraciones_mean/len(range_disp)}')"
      ],
      "metadata": {
        "colab": {
          "base_uri": "https://localhost:8080/"
        },
        "id": "C-ct0JNhLlC6",
        "outputId": "8d4bbb67-e5fe-46c2-9859-7731b359a486"
      },
      "execution_count": null,
      "outputs": [
        {
          "output_type": "stream",
          "name": "stdout",
          "text": [
            "Tiempo empleado = 1.9814841747283936\n",
            "Tiempo promedio para calcular una solución 0.013571809415947902 ms\n",
            "Promedio iteraciones empleadas = 1452.1575342465753\n"
          ]
        }
      ]
    },
    {
      "cell_type": "markdown",
      "metadata": {
        "id": "hLrVwt5QkZPD"
      },
      "source": [
        "Este algoritmo ayuda a optimizar el tiempo de ejecución, esto es debido a que en lugar de explorar todos los nodos, realizamos una división por la mitad del espacio de soluciones de modo que si el número buscado es menor a 0, realizamos un blucle y si es mayor realizamos otro, reduciendo así la complejidad del algoritmo a O(n).\n",
        "\n",
        "Para lograrlo se ha analizado los resultados optenidos en función de la posición de los signos de operación de modo que para signos = ['*','-','+','/'], optenemos numeros de un rango de [-5,77] y para signos = ['/','+','-','*'], optenemos valores de [-69,11]."
      ]
    },
    {
      "cell_type": "markdown",
      "metadata": {
        "id": "eGDB4K6uk1iN"
      },
      "source": [
        "### 9.(*)Calcula la complejidad del algoritmo "
      ]
    },
    {
      "cell_type": "markdown",
      "metadata": {
        "id": "NhpTh_BPk1ms"
      },
      "source": [
        "Se trata de un algoritmo de complejidad $O(n)$, ya que esta compuesto por 1 bucle for."
      ]
    },
    {
      "cell_type": "markdown",
      "metadata": {
        "id": "3M6QjTsSkmYe"
      },
      "source": [
        "### 10. Según el problema (y tenga sentido), diseña un juego de datos de entrada aleatorios"
      ]
    },
    {
      "cell_type": "markdown",
      "metadata": {
        "id": "Jc3_OlyNkvjZ"
      },
      "source": [
        "Para generar datos aleatorios, hemos de generar valores enteros entre [-69,77], de modo que quedaría así:"
      ]
    },
    {
      "cell_type": "code",
      "metadata": {
        "id": "sJ-N2etjkyWc"
      },
      "source": [
        "num_objetivo = random.randrange(-69,77)"
      ],
      "execution_count": null,
      "outputs": []
    },
    {
      "cell_type": "markdown",
      "metadata": {
        "id": "zy5ZROmjlGo1"
      },
      "source": [
        "Aplica el algoritmo al juego de datos generado"
      ]
    },
    {
      "cell_type": "code",
      "metadata": {
        "id": "Jkx8GeiYlUz1",
        "colab": {
          "base_uri": "https://localhost:8080/"
        },
        "outputId": "159d9f07-a4b2-4da6-b071-98bdb7f34dfa"
      },
      "source": [
        "iteraciones, resultado = find_result2(num_objetivo)\n",
        "print(f'Numero buscado = {num_objetivo}')\n",
        "print(f'Comboración resultado --> {resultado} = {eval(resultado)}')\n",
        "print(f'Numero de iteraciones empleadas = --> {iteraciones}')"
      ],
      "execution_count": null,
      "outputs": [
        {
          "output_type": "stream",
          "name": "stdout",
          "text": [
            "Numero buscado = 13\n",
            "Comboración resultado --> 9*2-8+3/1 = 13.0\n",
            "Numero de iteraciones empleadas = --> 1285\n"
          ]
        }
      ]
    },
    {
      "cell_type": "markdown",
      "metadata": {
        "id": "kAkDPUyRtYyH"
      },
      "source": [
        "### 11. Describe brevemente las lineas de como crees que es posible avanzar en el estudio del problema. Ten en cuenta incluso posibles variaciones del problema y/o variaciones al alza del tamaño"
      ]
    },
    {
      "cell_type": "markdown",
      "metadata": {
        "id": "IE0uZmo-tZu-"
      },
      "source": [
        "Este algoritmo tiene una complejidad lineal O(n), por lo que presenta un rendimiento razonable, no obstante sería interesante analizar otras alternativas que no diesen lugar a explorar los nodos completos para determinar si una solución es válida.\n",
        "\n",
        "Por otro lado, si quisieramos que esta algoritmo funcionase para un mayor rango de números y no quedase limitado entre [-69,77], deberiamos contemplar la posibilidad de poder repetir números y signos para una mayor variedad de operaciones."
      ]
    }
  ]
}